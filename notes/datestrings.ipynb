{
 "cells": [
  {
   "cell_type": "code",
   "execution_count": 2,
   "id": "dd926559",
   "metadata": {},
   "outputs": [],
   "source": [
    "import datetime as dt"
   ]
  },
  {
   "cell_type": "code",
   "execution_count": 3,
   "id": "6bfea6cf",
   "metadata": {},
   "outputs": [
    {
     "name": "stdout",
     "output_type": "stream",
     "text": [
      "2016-01-13 00:00:00\n"
     ]
    }
   ],
   "source": [
    "date = \"2016-01-13\"\n",
    "date_obj = dt.datetime.strptime(date, \"%Y-%m-%d\")\n",
    "print(date_obj)"
   ]
  },
  {
   "cell_type": "code",
   "execution_count": 4,
   "id": "ae19d261",
   "metadata": {},
   "outputs": [
    {
     "name": "stdout",
     "output_type": "stream",
     "text": [
      "Month: 1, Day: 13, Year: 2016\n"
     ]
    }
   ],
   "source": [
    "month = date_obj.month\n",
    "day = date_obj.day\n",
    "year = date_obj.year\n",
    "print(f\"Month: {month}, Day: {day}, Year: {year}\")"
   ]
  },
  {
   "cell_type": "code",
   "execution_count": 5,
   "id": "4b95cb77",
   "metadata": {},
   "outputs": [
    {
     "name": "stdout",
     "output_type": "stream",
     "text": [
      "Month (text): January\n"
     ]
    }
   ],
   "source": [
    "month_txt = date_obj.strftime(\"%B\")\n",
    "print(f\"Month (text): {month_txt}\")"
   ]
  }
 ],
 "metadata": {
  "kernelspec": {
   "display_name": "Python 3",
   "language": "python",
   "name": "python3"
  },
  "language_info": {
   "codemirror_mode": {
    "name": "ipython",
    "version": 3
   },
   "file_extension": ".py",
   "mimetype": "text/x-python",
   "name": "python",
   "nbconvert_exporter": "python",
   "pygments_lexer": "ipython3",
   "version": "3.13.3"
  }
 },
 "nbformat": 4,
 "nbformat_minor": 5
}
