{
 "cells": [
  {
   "cell_type": "code",
   "execution_count": 2,
   "id": "dd926559",
   "metadata": {},
   "outputs": [],
   "source": [
    "import datetime as dt"
   ]
  },
  {
   "cell_type": "code",
   "execution_count": 3,
   "id": "6bfea6cf",
   "metadata": {},
   "outputs": [
    {
     "name": "stdout",
     "output_type": "stream",
     "text": [
      "2016-01-13 00:00:00\n"
     ]
    }
   ],
   "source": [
    "date = \"2016-01-13\"\n",
    "date_obj = dt.datetime.strptime(date, \"%Y-%m-%d\")\n",
    "print(date_obj)"
   ]
  },
  {
   "cell_type": "code",
   "execution_count": 4,
   "id": "ae19d261",
   "metadata": {},
   "outputs": [
    {
     "name": "stdout",
     "output_type": "stream",
     "text": [
      "Month: 1, Day: 13, Year: 2016\n"
     ]
    }
   ],
   "source": [
    "month = date_obj.month\n",
    "day = date_obj.day\n",
    "year = date_obj.year\n",
    "print(f\"Month: {month}, Day: {day}, Year: {year}\")"
   ]
  },
  {
   "cell_type": "code",
   "execution_count": 5,
   "id": "4b95cb77",
   "metadata": {},
   "outputs": [
    {
     "name": "stdout",
     "output_type": "stream",
     "text": [
      "Month (text): January\n"
     ]
    }
   ],
   "source": [
    "month_txt = date_obj.strftime(\"%B\")\n",
    "print(f\"Month (text): {month_txt}\")"
   ]
  },
  {
   "cell_type": "markdown",
   "id": "bda44fa7",
   "metadata": {},
   "source": [
    "## Checking if dates exist in a dataframe"
   ]
  },
  {
   "cell_type": "code",
   "execution_count": 5,
   "id": "de981dae",
   "metadata": {},
   "outputs": [
    {
     "name": "stdout",
     "output_type": "stream",
     "text": [
      "DatetimeIndex(['2016-01-21'], dtype='datetime64[ns]', freq='D')\n"
     ]
    }
   ],
   "source": [
    "\n",
    "import pandas as pd\n",
    "\n",
    "df = pd.DataFrame()\n",
    "\n",
    "df['date'] = pd.date_range(start='2016-01-01', end='2016-01-31', freq='D')\n",
    "\n",
    "# remove one row\n",
    "df = df.drop(df.index[20]).reset_index(drop=True)\n",
    "\n",
    "\n",
    "proper_dates = pd.date_range(start='2016-01-01', end='2016-01-31', freq='D')\n",
    "missing_dates = proper_dates.difference(df['date'])\n",
    "\n",
    "print(missing_dates)\n"
   ]
  }
 ],
 "metadata": {
  "kernelspec": {
   "display_name": "Python 3",
   "language": "python",
   "name": "python3"
  },
  "language_info": {
   "codemirror_mode": {
    "name": "ipython",
    "version": 3
   },
   "file_extension": ".py",
   "mimetype": "text/x-python",
   "name": "python",
   "nbconvert_exporter": "python",
   "pygments_lexer": "ipython3",
   "version": "3.13.3"
  }
 },
 "nbformat": 4,
 "nbformat_minor": 5
}
