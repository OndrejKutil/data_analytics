{
 "cells": [
  {
   "cell_type": "code",
   "execution_count": 1,
   "id": "22bfce0b",
   "metadata": {},
   "outputs": [],
   "source": [
    "import numpy as np\n",
    "import pandas as pd"
   ]
  },
  {
   "cell_type": "code",
   "execution_count": 4,
   "id": "56f0b395",
   "metadata": {},
   "outputs": [
    {
     "name": "stdout",
     "output_type": "stream",
     "text": [
      "0.051000000000000004\n",
      "0.051000000000000004\n"
     ]
    }
   ],
   "source": [
    "portfolio_weights = np.array([0.2, 0.3, 0.5])\n",
    "portfolio_returns = np.array([0.05, 0.07, 0.04])\n",
    "\n",
    "print(portfolio_returns @ portfolio_weights)\n",
    "print(np.sum(portfolio_returns * portfolio_weights))"
   ]
  },
  {
   "cell_type": "code",
   "execution_count": 15,
   "id": "19a57b92",
   "metadata": {},
   "outputs": [
    {
     "data": {
      "text/plain": [
       "np.float64(0.06609084656743319)"
      ]
     },
     "execution_count": 15,
     "metadata": {},
     "output_type": "execute_result"
    }
   ],
   "source": [
    "daily_returns = pd.DataFrame({\n",
    "    'Asset 1': [0.01, 0.03, -0.01],\n",
    "    'Asset 2': [0.02, -0.02, 0.01],\n",
    "    'Asset 3': [-0.01, 0.01, 0.02]\n",
    "})\n",
    "\n",
    "portfolio_weights = np.array([0.2, 0.3, 0.5])\n",
    "\n",
    "portfolio_variance = (portfolio_weights @ daily_returns.cov() @ portfolio_weights.T)\n",
    "\n",
    "portfolio_std_dev_daily = np.sqrt(portfolio_variance)\n",
    "portfolio_std_dev_annual = portfolio_std_dev_daily * np.sqrt(252)\n",
    "\n",
    "portfolio_std_dev_annual"
   ]
  }
 ],
 "metadata": {
  "kernelspec": {
   "display_name": ".venv",
   "language": "python",
   "name": "python3"
  },
  "language_info": {
   "codemirror_mode": {
    "name": "ipython",
    "version": 3
   },
   "file_extension": ".py",
   "mimetype": "text/x-python",
   "name": "python",
   "nbconvert_exporter": "python",
   "pygments_lexer": "ipython3",
   "version": "3.13.3"
  }
 },
 "nbformat": 4,
 "nbformat_minor": 5
}
